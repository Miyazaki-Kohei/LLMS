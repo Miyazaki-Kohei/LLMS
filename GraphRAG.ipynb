{
  "nbformat": 4,
  "nbformat_minor": 0,
  "metadata": {
    "colab": {
      "provenance": [],
      "include_colab_link": true
    },
    "kernelspec": {
      "name": "python3",
      "display_name": "Python 3"
    },
    "language_info": {
      "name": "python"
    },
    "widgets": {
      "application/vnd.jupyter.widget-state+json": {
        "0d66138cc4f8464a8e44160ca8c576a5": {
          "model_module": "yfiles-jupyter-graphs",
          "model_name": "GraphModel",
          "model_module_version": "^1.7.1",
          "state": {
            "_context_pane_mapping": [
              {
                "id": "Neighborhood",
                "title": "Neighborhood"
              },
              {
                "id": "Data",
                "title": "Data"
              },
              {
                "id": "Search",
                "title": "Search"
              },
              {
                "id": "About",
                "title": "About"
              }
            ],
            "_data_importer": "neo4j",
            "_directed": true,
            "_dom_classes": [],
            "_edges": [
              {
                "id": 1152922604118474800,
                "start": 1,
                "end": 2,
                "properties": {
                  "label": "FRIEND"
                },
                "label": "FRIEND",
                "color": "#607D8B",
                "thickness_factor": 1,
                "directed": true
              },
              {
                "id": 1152923703630102500,
                "start": 1,
                "end": 3,
                "properties": {
                  "label": "POSSESSES"
                },
                "label": "POSSESSES",
                "color": "#673AB7",
                "thickness_factor": 1,
                "directed": true
              },
              {
                "id": 1152924803141730300,
                "start": 1,
                "end": 4,
                "properties": {
                  "label": "ADOPTED_BY"
                },
                "label": "ADOPTED_BY",
                "color": "#CDDC39",
                "thickness_factor": 1,
                "directed": true
              },
              {
                "id": 1152925902653358000,
                "start": 1,
                "end": 5,
                "properties": {
                  "label": "ENCOUNTERED"
                },
                "label": "ENCOUNTERED",
                "color": "#9E9E9E",
                "thickness_factor": 1,
                "directed": true
              },
              {
                "id": 1155177702467043300,
                "start": 1,
                "end": 6,
                "properties": {
                  "label": "ENCOUNTERED"
                },
                "label": "ENCOUNTERED",
                "color": "#9E9E9E",
                "thickness_factor": 1,
                "directed": true
              },
              {
                "id": 1157429502280728600,
                "start": 1,
                "end": 7,
                "properties": {
                  "label": "ENCOUNTERED"
                },
                "label": "ENCOUNTERED",
                "color": "#9E9E9E",
                "thickness_factor": 1,
                "directed": true
              },
              {
                "id": 1152927002164985900,
                "start": 1,
                "end": 8,
                "properties": {
                  "label": "TRAIN_UNDER"
                },
                "label": "TRAIN_UNDER",
                "color": "#9C27B0",
                "thickness_factor": 1,
                "directed": true
              },
              {
                "id": 1152928101676613600,
                "start": 8,
                "end": 9,
                "properties": {
                  "label": "TRAIN_WITH"
                },
                "label": "TRAIN_WITH",
                "color": "#2196F3",
                "thickness_factor": 1,
                "directed": true
              },
              {
                "id": 6924306417314693000,
                "start": 9,
                "end": 28,
                "properties": {
                  "label": "CONFLICT"
                },
                "label": "CONFLICT",
                "color": "#4CAF50",
                "thickness_factor": 1,
                "directed": true
              },
              {
                "id": 1152922604118474800,
                "start": 11,
                "end": 9,
                "properties": {
                  "label": "FRIEND"
                },
                "label": "FRIEND",
                "color": "#607D8B",
                "thickness_factor": 1,
                "directed": true
              },
              {
                "id": 6917530127152710000,
                "start": 11,
                "end": 29,
                "properties": {
                  "label": "FRIEND"
                },
                "label": "FRIEND",
                "color": "#607D8B",
                "thickness_factor": 1,
                "directed": true
              },
              {
                "id": 1152929201188241400,
                "start": 11,
                "end": 8,
                "properties": {
                  "label": "MENTOR"
                },
                "label": "MENTOR",
                "color": "#F44336",
                "thickness_factor": 1,
                "directed": true
              },
              {
                "id": 6917536724222476000,
                "start": 11,
                "end": 58,
                "properties": {
                  "label": "MENTOR"
                },
                "label": "MENTOR",
                "color": "#F44336",
                "thickness_factor": 1,
                "directed": true
              },
              {
                "id": 6917536724222476000,
                "start": 11,
                "end": 59,
                "properties": {
                  "label": "MENTOR"
                },
                "label": "MENTOR",
                "color": "#F44336",
                "thickness_factor": 1,
                "directed": true
              },
              {
                "id": 1152930300699869200,
                "start": 11,
                "end": 12,
                "properties": {
                  "label": "PARTICIPATED_IN"
                },
                "label": "PARTICIPATED_IN",
                "color": "#607D8B",
                "thickness_factor": 1,
                "directed": true
              },
              {
                "id": 1152931400211497000,
                "start": 11,
                "end": 13,
                "properties": {
                  "label": "FOUGHT_AGAINST"
                },
                "label": "FOUGHT_AGAINST",
                "color": "#673AB7",
                "thickness_factor": 1,
                "directed": true
              },
              {
                "id": 1155183200025182200,
                "start": 11,
                "end": 15,
                "properties": {
                  "label": "FOUGHT_AGAINST"
                },
                "label": "FOUGHT_AGAINST",
                "color": "#673AB7",
                "thickness_factor": 1,
                "directed": true
              },
              {
                "id": 1157434999838867500,
                "start": 11,
                "end": 16,
                "properties": {
                  "label": "FOUGHT_AGAINST"
                },
                "label": "FOUGHT_AGAINST",
                "color": "#673AB7",
                "thickness_factor": 1,
                "directed": true
              },
              {
                "id": 1152932499723124700,
                "start": 11,
                "end": 14,
                "properties": {
                  "label": "TRAINING_UNDER"
                },
                "label": "TRAINING_UNDER",
                "color": "#CDDC39",
                "thickness_factor": 1,
                "directed": true
              },
              {
                "id": 1152933599234752500,
                "start": 11,
                "end": 4,
                "properties": {
                  "label": "REUNITED_WITH"
                },
                "label": "REUNITED_WITH",
                "color": "#9E9E9E",
                "thickness_factor": 1,
                "directed": true
              },
              {
                "id": 6917544420803871000,
                "start": 11,
                "end": 18,
                "properties": {
                  "label": "RECEIVED_HELP"
                },
                "label": "RECEIVED_HELP",
                "color": "#9C27B0",
                "thickness_factor": 1,
                "directed": true
              },
              {
                "id": 6917544420803871000,
                "start": 11,
                "end": 19,
                "properties": {
                  "label": "RECEIVED_HELP"
                },
                "label": "RECEIVED_HELP",
                "color": "#9C27B0",
                "thickness_factor": 1,
                "directed": true
              },
              {
                "id": 6917545520315498000,
                "start": 11,
                "end": 3,
                "properties": {
                  "label": "RESURRECTED"
                },
                "label": "RESURRECTED",
                "color": "#2196F3",
                "thickness_factor": 1,
                "directed": true
              },
              {
                "id": 6917546619827126000,
                "start": 11,
                "end": 20,
                "properties": {
                  "label": "MET"
                },
                "label": "MET",
                "color": "#4CAF50",
                "thickness_factor": 1,
                "directed": true
              },
              {
                "id": 6917547719338754000,
                "start": 11,
                "end": 22,
                "properties": {
                  "label": "MARRIED"
                },
                "label": "MARRIED",
                "color": "#F44336",
                "thickness_factor": 1,
                "directed": true
              },
              {
                "id": 6917548818850382000,
                "start": 11,
                "end": 16,
                "properties": {
                  "label": "FOUGHT"
                },
                "label": "FOUGHT",
                "color": "#607D8B",
                "thickness_factor": 1,
                "directed": true
              },
              {
                "id": 6917548818850382000,
                "start": 11,
                "end": 25,
                "properties": {
                  "label": "FOUGHT"
                },
                "label": "FOUGHT",
                "color": "#607D8B",
                "thickness_factor": 1,
                "directed": true
              },
              {
                "id": 6917548818850382000,
                "start": 11,
                "end": 29,
                "properties": {
                  "label": "FOUGHT"
                },
                "label": "FOUGHT",
                "color": "#607D8B",
                "thickness_factor": 1,
                "directed": true
              },
              {
                "id": 6917548818850382000,
                "start": 11,
                "end": 54,
                "properties": {
                  "label": "FOUGHT"
                },
                "label": "FOUGHT",
                "color": "#607D8B",
                "thickness_factor": 1,
                "directed": true
              },
              {
                "id": 6917549918362010000,
                "start": 11,
                "end": 4,
                "properties": {
                  "label": "FATHER"
                },
                "label": "FATHER",
                "color": "#673AB7",
                "thickness_factor": 1,
                "directed": true
              },
              {
                "id": 6917551017873637000,
                "start": 11,
                "end": 28,
                "properties": {
                  "label": "CONFLICT"
                },
                "label": "CONFLICT",
                "color": "#4CAF50",
                "thickness_factor": 1,
                "directed": true
              },
              {
                "id": 6919805016710578000,
                "start": 11,
                "end": 34,
                "properties": {
                  "label": "USED"
                },
                "label": "USED",
                "color": "#CDDC39",
                "thickness_factor": 1,
                "directed": true
              },
              {
                "id": 6917555415920148000,
                "start": 11,
                "end": 36,
                "properties": {
                  "label": "ESCAPED"
                },
                "label": "ESCAPED",
                "color": "#9E9E9E",
                "thickness_factor": 1,
                "directed": true
              },
              {
                "id": 6917556515431776000,
                "start": 11,
                "end": 37,
                "properties": {
                  "label": "ARRIVED"
                },
                "label": "ARRIVED",
                "color": "#9C27B0",
                "thickness_factor": 1,
                "directed": true
              },
              {
                "id": 6917570809082937000,
                "start": 11,
                "end": 56,
                "properties": {
                  "label": "FIGHT"
                },
                "label": "FIGHT",
                "color": "#2196F3",
                "thickness_factor": 1,
                "directed": true
              },
              {
                "id": 6917574107617821000,
                "start": 11,
                "end": 31,
                "properties": {
                  "label": "TEAM_UP"
                },
                "label": "TEAM_UP",
                "color": "#4CAF50",
                "thickness_factor": 1,
                "directed": true
              },
              {
                "id": 6917577406152704000,
                "start": 11,
                "end": 31,
                "properties": {
                  "label": "FINAL_BATTLE"
                },
                "label": "FINAL_BATTLE",
                "color": "#F44336",
                "thickness_factor": 1,
                "directed": true
              },
              {
                "id": 6917578505664332000,
                "start": 11,
                "end": 64,
                "properties": {
                  "label": "FAMILY"
                },
                "label": "FAMILY",
                "color": "#607D8B",
                "thickness_factor": 1,
                "directed": true
              },
              {
                "id": 6917579605175960000,
                "start": 11,
                "end": 65,
                "properties": {
                  "label": "TRAINING"
                },
                "label": "TRAINING",
                "color": "#673AB7",
                "thickness_factor": 1,
                "directed": true
              },
              {
                "id": 1155186498560065500,
                "start": 16,
                "end": 8,
                "properties": {
                  "label": "KILLED"
                },
                "label": "KILLED",
                "color": "#CDDC39",
                "thickness_factor": 1,
                "directed": true
              },
              {
                "id": 1152934698746380300,
                "start": 16,
                "end": 9,
                "properties": {
                  "label": "KILLED"
                },
                "label": "KILLED",
                "color": "#CDDC39",
                "thickness_factor": 1,
                "directed": true
              },
              {
                "id": 1152935798258008000,
                "start": 16,
                "end": 11,
                "properties": {
                  "label": "CHALLENGED"
                },
                "label": "CHALLENGED",
                "color": "#9E9E9E",
                "thickness_factor": 1,
                "directed": true
              },
              {
                "id": 1152925902653358000,
                "start": 28,
                "end": 39,
                "properties": {
                  "label": "ENCOUNTERED"
                },
                "label": "ENCOUNTERED",
                "color": "#9E9E9E",
                "thickness_factor": 1,
                "directed": true
              },
              {
                "id": 1152934698746380300,
                "start": 28,
                "end": 9,
                "properties": {
                  "label": "KILLED"
                },
                "label": "KILLED",
                "color": "#CDDC39",
                "thickness_factor": 1,
                "directed": true
              },
              {
                "id": 1155196394164715500,
                "start": 28,
                "end": 11,
                "properties": {
                  "label": "RIVAL"
                },
                "label": "RIVAL",
                "color": "#9C27B0",
                "thickness_factor": 1,
                "directed": true
              },
              {
                "id": 1152944594351030300,
                "start": 28,
                "end": 31,
                "properties": {
                  "label": "RIVAL"
                },
                "label": "RIVAL",
                "color": "#9C27B0",
                "thickness_factor": 1,
                "directed": true
              },
              {
                "id": 1152950091909169200,
                "start": 28,
                "end": 38,
                "properties": {
                  "label": "INVOLVED"
                },
                "label": "INVOLVED",
                "color": "#2196F3",
                "thickness_factor": 1,
                "directed": true
              },
              {
                "id": 1152925902653358000,
                "start": 29,
                "end": 56,
                "properties": {
                  "label": "ENCOUNTERED"
                },
                "label": "ENCOUNTERED",
                "color": "#9E9E9E",
                "thickness_factor": 1,
                "directed": true
              },
              {
                "id": 6919800618664067000,
                "start": 29,
                "end": 54,
                "properties": {
                  "label": "FOUGHT"
                },
                "label": "FOUGHT",
                "color": "#607D8B",
                "thickness_factor": 1,
                "directed": true
              },
              {
                "id": 1152945693862658000,
                "start": 29,
                "end": 34,
                "properties": {
                  "label": "USED"
                },
                "label": "USED",
                "color": "#CDDC39",
                "thickness_factor": 1,
                "directed": true
              }
            ],
            "_graph_layout": {},
            "_highlight": [],
            "_license": {},
            "_model_module": "yfiles-jupyter-graphs",
            "_model_module_version": "^1.7.1",
            "_model_name": "GraphModel",
            "_neighborhood": {},
            "_nodes": [
              {
                "id": 1,
                "properties": {
                  "id": "孫悟空",
                  "label": "__Entity__:Person"
                },
                "color": "#2196F3",
                "styles": {},
                "label": "孫悟空",
                "scale_factor": 1,
                "type": "#2196F3",
                "size": [
                  55,
                  55
                ],
                "position": [
                  0,
                  0
                ]
              },
              {
                "id": 2,
                "properties": {
                  "id": "ブルマ",
                  "label": "__Entity__:Person:Character"
                },
                "color": "#4CAF50",
                "styles": {},
                "label": "ブルマ",
                "scale_factor": 1,
                "type": "#4CAF50",
                "size": [
                  55,
                  55
                ],
                "position": [
                  0,
                  0
                ]
              },
              {
                "id": 3,
                "properties": {
                  "id": "神龍",
                  "label": "__Entity__:Dragon:Character"
                },
                "color": "#F44336",
                "styles": {},
                "label": "神龍",
                "scale_factor": 1,
                "type": "#F44336",
                "size": [
                  55,
                  55
                ],
                "position": [
                  0,
                  0
                ]
              },
              {
                "id": 4,
                "properties": {
                  "id": "孫悟飯",
                  "label": "__Entity__:Person"
                },
                "color": "#2196F3",
                "styles": {},
                "label": "孫悟飯",
                "scale_factor": 1,
                "type": "#2196F3",
                "size": [
                  55,
                  55
                ],
                "position": [
                  0,
                  0
                ]
              },
              {
                "id": 5,
                "properties": {
                  "id": "ウーロン",
                  "label": "__Entity__:Person"
                },
                "color": "#2196F3",
                "styles": {},
                "label": "ウーロン",
                "scale_factor": 1,
                "type": "#2196F3",
                "size": [
                  55,
                  55
                ],
                "position": [
                  0,
                  0
                ]
              },
              {
                "id": 6,
                "properties": {
                  "id": "ヤムチャ",
                  "label": "__Entity__:Person"
                },
                "color": "#2196F3",
                "styles": {},
                "label": "ヤムチャ",
                "scale_factor": 1,
                "type": "#2196F3",
                "size": [
                  55,
                  55
                ],
                "position": [
                  0,
                  0
                ]
              },
              {
                "id": 7,
                "properties": {
                  "id": "ピラフ",
                  "label": "__Entity__:Person"
                },
                "color": "#2196F3",
                "styles": {},
                "label": "ピラフ",
                "scale_factor": 1,
                "type": "#2196F3",
                "size": [
                  55,
                  55
                ],
                "position": [
                  0,
                  0
                ]
              },
              {
                "id": 8,
                "properties": {
                  "id": "亀仙人",
                  "label": "__Entity__:Person:Character"
                },
                "color": "#4CAF50",
                "styles": {},
                "label": "亀仙人",
                "scale_factor": 1,
                "type": "#4CAF50",
                "size": [
                  55,
                  55
                ],
                "position": [
                  0,
                  0
                ]
              },
              {
                "id": 9,
                "properties": {
                  "id": "クリリン",
                  "label": "__Entity__:Person:Character"
                },
                "color": "#4CAF50",
                "styles": {},
                "label": "クリリン",
                "scale_factor": 1,
                "type": "#4CAF50",
                "size": [
                  55,
                  55
                ],
                "position": [
                  0,
                  0
                ]
              },
              {
                "id": 28,
                "properties": {
                  "id": "フリーザ",
                  "label": "__Entity__:Character"
                },
                "color": "#607D8B",
                "styles": {},
                "label": "フリーザ",
                "scale_factor": 1,
                "type": "#607D8B",
                "size": [
                  55,
                  55
                ],
                "position": [
                  0,
                  0
                ]
              },
              {
                "id": 11,
                "properties": {
                  "id": "悟空",
                  "label": "__Entity__:Person:Character"
                },
                "color": "#4CAF50",
                "styles": {},
                "label": "悟空",
                "scale_factor": 1,
                "type": "#4CAF50",
                "size": [
                  55,
                  55
                ],
                "position": [
                  0,
                  0
                ]
              },
              {
                "id": 29,
                "properties": {
                  "id": "悟飯",
                  "label": "__Entity__:Person:Character"
                },
                "color": "#4CAF50",
                "styles": {},
                "label": "悟飯",
                "scale_factor": 1,
                "type": "#4CAF50",
                "size": [
                  55,
                  55
                ],
                "position": [
                  0,
                  0
                ]
              },
              {
                "id": 58,
                "properties": {
                  "id": "界王",
                  "label": "__Entity__:Person"
                },
                "color": "#2196F3",
                "styles": {},
                "label": "界王",
                "scale_factor": 1,
                "type": "#2196F3",
                "size": [
                  55,
                  55
                ],
                "position": [
                  0,
                  0
                ]
              },
              {
                "id": 59,
                "properties": {
                  "id": "界王神",
                  "label": "__Entity__:Person"
                },
                "color": "#2196F3",
                "styles": {},
                "label": "界王神",
                "scale_factor": 1,
                "type": "#2196F3",
                "size": [
                  55,
                  55
                ],
                "position": [
                  0,
                  0
                ]
              },
              {
                "id": 12,
                "properties": {
                  "id": "天下一武道会",
                  "label": "__Entity__:Event"
                },
                "color": "#673AB7",
                "styles": {},
                "label": "天下一武道会",
                "scale_factor": 1,
                "type": "#673AB7",
                "size": [
                  55,
                  55
                ],
                "position": [
                  0,
                  0
                ]
              },
              {
                "id": 13,
                "properties": {
                  "id": "レッドリボン軍",
                  "label": "__Entity__:Group"
                },
                "color": "#CDDC39",
                "styles": {},
                "label": "レッドリボン軍",
                "scale_factor": 1,
                "type": "#CDDC39",
                "size": [
                  55,
                  55
                ],
                "position": [
                  0,
                  0
                ]
              },
              {
                "id": 15,
                "properties": {
                  "id": "天津飯",
                  "label": "__Entity__:Person"
                },
                "color": "#2196F3",
                "styles": {},
                "label": "天津飯",
                "scale_factor": 1,
                "type": "#2196F3",
                "size": [
                  55,
                  55
                ],
                "position": [
                  0,
                  0
                ]
              },
              {
                "id": 16,
                "properties": {
                  "id": "ピッコロ大魔王",
                  "label": "__Entity__:Person:Character"
                },
                "color": "#4CAF50",
                "styles": {},
                "label": "ピッコロ大魔王",
                "scale_factor": 1,
                "type": "#4CAF50",
                "size": [
                  55,
                  55
                ],
                "position": [
                  0,
                  0
                ]
              },
              {
                "id": 14,
                "properties": {
                  "id": "仙猫カリン",
                  "label": "__Entity__:Person"
                },
                "color": "#2196F3",
                "styles": {},
                "label": "仙猫カリン",
                "scale_factor": 1,
                "type": "#2196F3",
                "size": [
                  55,
                  55
                ],
                "position": [
                  0,
                  0
                ]
              },
              {
                "id": 18,
                "properties": {
                  "id": "ヤジロベー",
                  "label": "__Entity__:Character"
                },
                "color": "#607D8B",
                "styles": {},
                "label": "ヤジロベー",
                "scale_factor": 1,
                "type": "#607D8B",
                "size": [
                  55,
                  55
                ],
                "position": [
                  0,
                  0
                ]
              },
              {
                "id": 19,
                "properties": {
                  "id": "カリン",
                  "label": "__Entity__:Character"
                },
                "color": "#607D8B",
                "styles": {},
                "label": "カリン",
                "scale_factor": 1,
                "type": "#607D8B",
                "size": [
                  55,
                  55
                ],
                "position": [
                  0,
                  0
                ]
              },
              {
                "id": 20,
                "properties": {
                  "id": "神様",
                  "label": "__Entity__:Character"
                },
                "color": "#607D8B",
                "styles": {},
                "label": "神様",
                "scale_factor": 1,
                "type": "#607D8B",
                "size": [
                  55,
                  55
                ],
                "position": [
                  0,
                  0
                ]
              },
              {
                "id": 22,
                "properties": {
                  "id": "チチ",
                  "label": "__Entity__:Person"
                },
                "color": "#2196F3",
                "styles": {},
                "label": "チチ",
                "scale_factor": 1,
                "type": "#2196F3",
                "size": [
                  55,
                  55
                ],
                "position": [
                  0,
                  0
                ]
              },
              {
                "id": 25,
                "properties": {
                  "id": "ラディッツ",
                  "label": "__Entity__:Person"
                },
                "color": "#2196F3",
                "styles": {},
                "label": "ラディッツ",
                "scale_factor": 1,
                "type": "#2196F3",
                "size": [
                  55,
                  55
                ],
                "position": [
                  0,
                  0
                ]
              },
              {
                "id": 54,
                "properties": {
                  "id": "セル",
                  "label": "__Entity__:Person"
                },
                "color": "#2196F3",
                "styles": {},
                "label": "セル",
                "scale_factor": 1,
                "type": "#2196F3",
                "size": [
                  55,
                  55
                ],
                "position": [
                  0,
                  0
                ]
              },
              {
                "id": 34,
                "properties": {
                  "id": "ドラゴンボール",
                  "label": "__Entity__:Item:Object"
                },
                "color": "#9E9E9E",
                "styles": {},
                "label": "ドラゴンボール",
                "scale_factor": 1,
                "type": "#9E9E9E",
                "size": [
                  55,
                  55
                ],
                "position": [
                  0,
                  0
                ]
              },
              {
                "id": 36,
                "properties": {
                  "id": "ナメック星",
                  "label": "__Entity__:Place:Planet"
                },
                "color": "#9C27B0",
                "styles": {},
                "label": "ナメック星",
                "scale_factor": 1,
                "type": "#9C27B0",
                "size": [
                  55,
                  55
                ],
                "position": [
                  0,
                  0
                ]
              },
              {
                "id": 37,
                "properties": {
                  "id": "ヤードラット星",
                  "label": "__Entity__:Planet"
                },
                "color": "#2196F3",
                "styles": {},
                "label": "ヤードラット星",
                "scale_factor": 1,
                "type": "#2196F3",
                "size": [
                  55,
                  55
                ],
                "position": [
                  0,
                  0
                ]
              },
              {
                "id": 56,
                "properties": {
                  "id": "魔人ブウ",
                  "label": "__Entity__:Person:Character:Villain"
                },
                "color": "#4CAF50",
                "styles": {},
                "label": "魔人ブウ",
                "scale_factor": 1,
                "type": "#4CAF50",
                "size": [
                  55,
                  55
                ],
                "position": [
                  0,
                  0
                ]
              },
              {
                "id": 31,
                "properties": {
                  "id": "ベジータ",
                  "label": "__Entity__:Person:Character"
                },
                "color": "#4CAF50",
                "styles": {},
                "label": "ベジータ",
                "scale_factor": 1,
                "type": "#4CAF50",
                "size": [
                  55,
                  55
                ],
                "position": [
                  0,
                  0
                ]
              },
              {
                "id": 64,
                "properties": {
                  "id": "パン",
                  "label": "__Entity__:Character"
                },
                "color": "#607D8B",
                "styles": {},
                "label": "パン",
                "scale_factor": 1,
                "type": "#607D8B",
                "size": [
                  55,
                  55
                ],
                "position": [
                  0,
                  0
                ]
              },
              {
                "id": 65,
                "properties": {
                  "id": "ウーブ",
                  "label": "__Entity__:Character"
                },
                "color": "#607D8B",
                "styles": {},
                "label": "ウーブ",
                "scale_factor": 1,
                "type": "#607D8B",
                "size": [
                  55,
                  55
                ],
                "position": [
                  0,
                  0
                ]
              },
              {
                "id": 39,
                "properties": {
                  "id": "トランクス",
                  "label": "__Entity__:Person:Character"
                },
                "color": "#4CAF50",
                "styles": {},
                "label": "トランクス",
                "scale_factor": 1,
                "type": "#4CAF50",
                "size": [
                  55,
                  55
                ],
                "position": [
                  0,
                  0
                ]
              },
              {
                "id": 38,
                "properties": {
                  "id": "人造人間・セル",
                  "label": "__Entity__:Arc"
                },
                "color": "#F44336",
                "styles": {},
                "label": "人造人間・セル",
                "scale_factor": 1,
                "type": "#F44336",
                "size": [
                  55,
                  55
                ],
                "position": [
                  0,
                  0
                ]
              }
            ],
            "_overview": {
              "enabled": null,
              "overview_set": false
            },
            "_selected_graph": [
              [],
              []
            ],
            "_sidebar": {
              "enabled": true,
              "start_with": ""
            },
            "_view_count": null,
            "_view_module": "yfiles-jupyter-graphs",
            "_view_module_version": "^1.7.1",
            "_view_name": "GraphView",
            "layout": "IPY_MODEL_f616265fb27a487f8ec6f7af18de976c",
            "tabbable": null,
            "tooltip": null
          }
        },
        "f616265fb27a487f8ec6f7af18de976c": {
          "model_module": "@jupyter-widgets/base",
          "model_name": "LayoutModel",
          "model_module_version": "2.0.0",
          "state": {
            "_model_module": "@jupyter-widgets/base",
            "_model_module_version": "2.0.0",
            "_model_name": "LayoutModel",
            "_view_count": null,
            "_view_module": "@jupyter-widgets/base",
            "_view_module_version": "2.0.0",
            "_view_name": "LayoutView",
            "align_content": null,
            "align_items": null,
            "align_self": null,
            "border_bottom": null,
            "border_left": null,
            "border_right": null,
            "border_top": null,
            "bottom": null,
            "display": null,
            "flex": null,
            "flex_flow": null,
            "grid_area": null,
            "grid_auto_columns": null,
            "grid_auto_flow": null,
            "grid_auto_rows": null,
            "grid_column": null,
            "grid_gap": null,
            "grid_row": null,
            "grid_template_areas": null,
            "grid_template_columns": null,
            "grid_template_rows": null,
            "height": "800px",
            "justify_content": null,
            "justify_items": null,
            "left": null,
            "margin": null,
            "max_height": null,
            "max_width": null,
            "min_height": null,
            "min_width": null,
            "object_fit": null,
            "object_position": null,
            "order": null,
            "overflow": null,
            "padding": null,
            "right": null,
            "top": null,
            "visibility": null,
            "width": "100%"
          }
        }
      }
    }
  },
  "cells": [
    {
      "cell_type": "markdown",
      "metadata": {
        "id": "view-in-github",
        "colab_type": "text"
      },
      "source": [
        "<a href=\"https://colab.research.google.com/github/Miyazaki-Kohei/LLMS/blob/main/GraphRAG.ipynb\" target=\"_parent\"><img src=\"https://colab.research.google.com/assets/colab-badge.svg\" alt=\"Open In Colab\"/></a>"
      ]
    },
    {
      "cell_type": "code",
      "source": [
        "# 参考 https://blog.langchain.dev/enhancing-rag-based-applications-accuracy-by-constructing-and-leveraging-knowledge-graphs/"
      ],
      "metadata": {
        "id": "idy48NmiizAM"
      },
      "execution_count": null,
      "outputs": []
    },
    {
      "cell_type": "code",
      "execution_count": 1,
      "metadata": {
        "id": "HcmWzBUTwkn_"
      },
      "outputs": [],
      "source": [
        "%%capture\n",
        "%pip install --upgrade --quiet  langchain langchain-community langchain-openai langchain-experimental neo4j wikipedia tiktoken yfiles_jupyter_graphs"
      ]
    },
    {
      "cell_type": "code",
      "source": [
        "import os\n",
        "from neo4j import GraphDatabase\n",
        "from yfiles_jupyter_graphs import GraphWidget\n",
        "from langchain_core.runnables import RunnableLambda, RunnableParallel, RunnablePassthrough, ConfigurableField\n",
        "from langchain_core.prompts import ChatPromptTemplate\n",
        "from langchain_core.prompts.prompt import PromptTemplate\n",
        "from langchain_core.pydantic_v1 import BaseModel, Field\n",
        "from typing import List\n",
        "from langchain_core.output_parsers import StrOutputParser\n",
        "from langchain_community.graphs import Neo4jGraph\n",
        "from langchain.document_loaders import TextLoader\n",
        "from langchain.text_splitter import TokenTextSplitter\n",
        "from langchain_openai import ChatOpenAI\n",
        "from langchain_experimental.graph_transformers import LLMGraphTransformer\n",
        "from langchain_community.vectorstores import Neo4jVector\n",
        "from langchain_openai import OpenAIEmbeddings\n",
        "from langchain_community.vectorstores.neo4j_vector import remove_lucene_chars\n",
        "\n",
        "try:\n",
        "    import google.colab\n",
        "    from google.colab import output\n",
        "    output.enable_custom_widget_manager()\n",
        "except:\n",
        "    pass"
      ],
      "metadata": {
        "id": "e4CJ4P8_wnpB"
      },
      "execution_count": 2,
      "outputs": []
    },
    {
      "cell_type": "code",
      "source": [
        "import getpass\n",
        "\n",
        "os.environ[\"OPENAI_API_KEY\"] = getpass.getpass(prompt = 'OpenAIのAPIキーを入力してください')\n",
        "os.environ[\"NEO4J_URI\"] = getpass.getpass(prompt = 'NEO4JのURIを入力してください')\n",
        "os.environ[\"NEO4J_USERNAME\"] = getpass.getpass(prompt = 'NEO4JのUSERNAMEを入力してください')\n",
        "os.environ[\"NEO4J_PASSWORD\"] = getpass.getpass(prompt = 'NEO4Jのパスワードを入力してください')"
      ],
      "metadata": {
        "colab": {
          "base_uri": "https://localhost:8080/"
        },
        "id": "I1HEY7cDiUUl",
        "outputId": "3ad9b7af-cccc-480a-82e6-796a71a76ffe"
      },
      "execution_count": 4,
      "outputs": [
        {
          "name": "stdout",
          "output_type": "stream",
          "text": [
            "OpenAIのAPIキーを入力してください··········\n",
            "NEO4JのURIを入力してください··········\n",
            "NEO4JのUSERNAMEを入力してください··········\n",
            "NEO4Jのパスワードを入力してください··········\n"
          ]
        }
      ]
    },
    {
      "cell_type": "code",
      "source": [
        "raw_documents = TextLoader('孫悟空少年編.txt').load()\n",
        "text_splitter = TokenTextSplitter(chunk_size=512, chunk_overlap=125)\n",
        "documents = text_splitter.split_documents(raw_documents)"
      ],
      "metadata": {
        "id": "ATSvt8Rt3se8"
      },
      "execution_count": 5,
      "outputs": []
    },
    {
      "cell_type": "code",
      "source": [
        "llm=ChatOpenAI(temperature=0, model_name=\"gpt-3.5-turbo-0125\")\n",
        "llm_transformer = LLMGraphTransformer(llm=llm)\n",
        "graph_documents = llm_transformer.convert_to_graph_documents(documents)"
      ],
      "metadata": {
        "id": "cJmIRgT7EzEc"
      },
      "execution_count": 6,
      "outputs": []
    },
    {
      "cell_type": "code",
      "source": [
        "graph = Neo4jGraph()"
      ],
      "metadata": {
        "id": "DwSUCQSYfOL4"
      },
      "execution_count": 7,
      "outputs": []
    },
    {
      "cell_type": "code",
      "source": [
        "graph.add_graph_documents(\n",
        "    graph_documents,\n",
        "    baseEntityLabel=True,\n",
        "    include_source=True\n",
        ")"
      ],
      "metadata": {
        "id": "yYTsmln33_fk"
      },
      "execution_count": 9,
      "outputs": []
    },
    {
      "cell_type": "code",
      "source": [
        "# directly show the graph resulting from the given Cypher query\n",
        "default_cypher = \"MATCH (s)-[r:!MENTIONS]->(t) RETURN s,r,t LIMIT 50\"\n",
        "\n",
        "def showGraph(cypher: str = default_cypher):\n",
        "    # create a neo4j session to run queries\n",
        "    driver = GraphDatabase.driver(\n",
        "        uri = os.environ[\"NEO4J_URI\"],\n",
        "        auth = (os.environ[\"NEO4J_USERNAME\"],\n",
        "                os.environ[\"NEO4J_PASSWORD\"]))\n",
        "    session = driver.session()\n",
        "    widget = GraphWidget(graph = session.run(cypher).graph())\n",
        "    widget.node_label_mapping = 'id'\n",
        "    #display(widget)\n",
        "    return widget"
      ],
      "metadata": {
        "id": "6ZSX8NVV4DJy"
      },
      "execution_count": 10,
      "outputs": []
    },
    {
      "cell_type": "code",
      "source": [
        "showGraph()"
      ],
      "metadata": {
        "id": "TnoV7_TNGh8m",
        "colab": {
          "base_uri": "https://localhost:8080/",
          "height": 817,
          "referenced_widgets": [
            "0d66138cc4f8464a8e44160ca8c576a5",
            "f616265fb27a487f8ec6f7af18de976c"
          ]
        },
        "outputId": "c09d812b-4db5-456c-adad-501c63714995"
      },
      "execution_count": 11,
      "outputs": [
        {
          "output_type": "display_data",
          "data": {
            "text/plain": [
              "GraphWidget(layout=Layout(height='800px', width='100%'))"
            ],
            "application/vnd.jupyter.widget-view+json": {
              "version_major": 2,
              "version_minor": 0,
              "model_id": "0d66138cc4f8464a8e44160ca8c576a5"
            }
          },
          "metadata": {
            "application/vnd.jupyter.widget-view+json": {
              "colab": {
                "custom_widget_manager": {
                  "url": "https://ssl.gstatic.com/colaboratory-static/widgets/colab-cdn-widget-manager/2b70e893a8ba7c0f/manager.min.js"
                }
              }
            }
          }
        }
      ]
    },
    {
      "cell_type": "code",
      "source": [],
      "metadata": {
        "id": "uh9ftPmVhBhv"
      },
      "execution_count": null,
      "outputs": []
    },
    {
      "cell_type": "code",
      "source": [
        "vector_index = Neo4jVector.from_existing_graph(\n",
        "    OpenAIEmbeddings(),\n",
        "    search_type=\"hybrid\",\n",
        "    node_label=\"Document\",\n",
        "    text_node_properties=[\"text\"],\n",
        "    embedding_node_property=\"embedding\"\n",
        ")"
      ],
      "metadata": {
        "id": "sW1eooLP44bL"
      },
      "execution_count": 12,
      "outputs": []
    },
    {
      "cell_type": "code",
      "source": [
        "graph.query(\"CREATE FULLTEXT INDEX entity IF NOT EXISTS FOR (e:__Entity__) ON EACH [e.id]\")"
      ],
      "metadata": {
        "colab": {
          "base_uri": "https://localhost:8080/"
        },
        "id": "chRaUwyJpw5c",
        "outputId": "64f08912-53af-49c7-c31c-0a6124b16efb"
      },
      "execution_count": 13,
      "outputs": [
        {
          "output_type": "execute_result",
          "data": {
            "text/plain": [
              "[]"
            ]
          },
          "metadata": {},
          "execution_count": 13
        }
      ]
    },
    {
      "cell_type": "code",
      "source": [
        "# Extract entities from text\n",
        "class Entities(BaseModel):\n",
        "    \"\"\"Identifying information about entities.\"\"\"\n",
        "\n",
        "    names: List[str] = Field(\n",
        "        ...,\n",
        "        description=\"All the person, organization, or business entities that \"\n",
        "        \"appear in the text\",\n",
        "    )"
      ],
      "metadata": {
        "id": "SVRIkn4O5P8O"
      },
      "execution_count": 14,
      "outputs": []
    },
    {
      "cell_type": "code",
      "source": [
        "prompt = ChatPromptTemplate.from_messages(\n",
        "    [\n",
        "        (\n",
        "            \"system\",\n",
        "            \"You are extracting organization and person entities from the text.\",\n",
        "        ),\n",
        "        (\n",
        "            \"human\",\n",
        "            \"Use the given format to extract information from the following \"\n",
        "            \"input: {question}\",\n",
        "        ),\n",
        "    ]\n",
        ")\n",
        "\n",
        "entity_chain = prompt | llm.with_structured_output(Entities)"
      ],
      "metadata": {
        "id": "UjvFxY9L5QFY"
      },
      "execution_count": 17,
      "outputs": []
    },
    {
      "cell_type": "code",
      "source": [
        "entity_chain.invoke({\"question\": \"梧空とにゃんたは戦った\"}).names"
      ],
      "metadata": {
        "colab": {
          "base_uri": "https://localhost:8080/"
        },
        "id": "nieBfUtIhDxj",
        "outputId": "17802a4c-f146-4f63-95c8-aac50ea16869"
      },
      "execution_count": 18,
      "outputs": [
        {
          "output_type": "execute_result",
          "data": {
            "text/plain": [
              "['梧空', 'にゃんた']"
            ]
          },
          "metadata": {},
          "execution_count": 18
        }
      ]
    },
    {
      "cell_type": "code",
      "source": [
        "def generate_full_text_query(input: str) -> str:\n",
        "    \"\"\"\n",
        "    Generate a full-text search query for a given input string.\n",
        "\n",
        "    This function constructs a query string suitable for a full-text search.\n",
        "    It processes the input string by splitting it into words and appending a\n",
        "    similarity threshold (~2 changed characters) to each word, then combines\n",
        "    them using the AND operator. Useful for mapping entities from user questions\n",
        "    to database values, and allows for some misspelings.\n",
        "    \"\"\"\n",
        "    full_text_query = \"\"\n",
        "    words = [el for el in remove_lucene_chars(input).split() if el]\n",
        "    for word in words[:-1]:\n",
        "        full_text_query += f\" {word}~2 AND\"\n",
        "    full_text_query += f\" {words[-1]}~2\"\n",
        "    return full_text_query.strip()\n",
        "\n",
        "# Fulltext index query\n",
        "def structured_retriever(question: str) -> str:\n",
        "    \"\"\"\n",
        "    Collects the neighborhood of entities mentioned\n",
        "    in the question\n",
        "    \"\"\"\n",
        "    result = \"\"\n",
        "    entities = entity_chain.invoke({\"question\": question})\n",
        "    for entity in entities.names:\n",
        "        response = graph.query(\n",
        "            \"\"\"CALL db.index.fulltext.queryNodes('entity', $query, {limit:20})\n",
        "            YIELD node,score\n",
        "            CALL {\n",
        "              WITH node\n",
        "              MATCH (node)-[r:!MENTIONS]->(neighbor)\n",
        "              RETURN node.id + ' - ' + type(r) + ' -> ' + neighbor.id AS output\n",
        "              UNION ALL\n",
        "              WITH node\n",
        "              MATCH (node)<-[r:!MENTIONS]-(neighbor)\n",
        "              RETURN neighbor.id + ' - ' + type(r) + ' -> ' +  node.id AS output\n",
        "            }\n",
        "            RETURN output LIMIT 1000\n",
        "            \"\"\",\n",
        "            {\"query\": generate_full_text_query(entity)},\n",
        "        )\n",
        "        result += \"\\n\".join([el['output'] for el in response])\n",
        "    return result"
      ],
      "metadata": {
        "id": "T3meEmsX5hCU"
      },
      "execution_count": 15,
      "outputs": []
    },
    {
      "cell_type": "code",
      "source": [
        "print(structured_retriever(\"孫悟空と関わりがあるエンティティを知りたい\"))"
      ],
      "metadata": {
        "colab": {
          "base_uri": "https://localhost:8080/"
        },
        "id": "mobzx64NhFgZ",
        "outputId": "fafc5257-ff7a-44c4-f392-a991844295db"
      },
      "execution_count": 19,
      "outputs": [
        {
          "output_type": "stream",
          "name": "stdout",
          "text": [
            "孫悟空 - ADOPTED_BY -> 孫悟飯\n",
            "悟空 - REUNITED_WITH -> 孫悟飯\n",
            "悟空 - FATHER -> 孫悟飯\n",
            "悟空 - FRIEND -> クリリン\n",
            "悟空 - FRIEND -> 悟飯\n",
            "悟空 - MENTOR -> 亀仙人\n",
            "悟空 - MENTOR -> 界王\n",
            "悟空 - MENTOR -> 界王神\n",
            "悟空 - PARTICIPATED_IN -> 天下一武道会\n",
            "悟空 - FOUGHT_AGAINST -> レッドリボン軍\n",
            "悟空 - FOUGHT_AGAINST -> 天津飯\n",
            "悟空 - FOUGHT_AGAINST -> ピッコロ大魔王\n",
            "悟空 - TRAINING_UNDER -> 仙猫カリン\n",
            "悟空 - REUNITED_WITH -> 孫悟飯\n",
            "悟空 - RECEIVED_HELP -> ヤジロベー\n",
            "悟空 - RECEIVED_HELP -> カリン\n",
            "悟空 - RESURRECTED -> 神龍\n",
            "悟空 - MET -> 神様\n",
            "悟空 - MARRIED -> チチ\n",
            "悟空 - FOUGHT -> ピッコロ大魔王\n",
            "悟空 - FOUGHT -> ラディッツ\n",
            "悟空 - FOUGHT -> 悟飯\n",
            "悟空 - FOUGHT -> セル\n",
            "悟空 - FATHER -> 孫悟飯\n",
            "悟空 - CONFLICT -> フリーザ\n",
            "悟空 - USED -> ドラゴンボール\n",
            "悟空 - ESCAPED -> ナメック星\n",
            "悟空 - ARRIVED -> ヤードラット星\n",
            "悟空 - FIGHT -> 魔人ブウ\n",
            "悟空 - TEAM_UP -> ベジータ\n",
            "悟空 - FINAL_BATTLE -> ベジータ\n",
            "悟空 - FAMILY -> パン\n",
            "悟空 - TRAINING -> ウーブ\n",
            "ピッコロ大魔王 - CHALLENGED -> 悟空\n",
            "フリーザ - RIVAL -> 悟空\n",
            "悟飯 - RESCUE -> 悟空\n",
            "悟飯 - ENCOUNTERED -> 魔人ブウ\n",
            "悟飯 - FOUGHT -> セル\n",
            "悟飯 - USED -> ドラゴンボール\n",
            "悟飯 - REVIVED -> フリーザ\n",
            "悟飯 - REVIVED -> サイヤ人\n",
            "悟飯 - FIGHT -> 魔人ブウ\n",
            "悟飯 - FUSION -> ゴテンクス\n",
            "悟飯 - RESCUE -> 悟空\n",
            "悟空 - FRIEND -> 悟飯\n",
            "悟空 - FOUGHT -> 悟飯\n",
            "トランクス - FRIENDSHIP -> 悟飯\n",
            "魔人ブウ - BATTLE -> 悟飯\n",
            "孫悟天 - FIGHT -> 魔人ブウ\n",
            "孫悟空 - FRIEND -> ブルマ\n",
            "孫悟空 - POSSESSES -> 神龍\n",
            "孫悟空 - ADOPTED_BY -> 孫悟飯\n",
            "孫悟空 - ENCOUNTERED -> ウーロン\n",
            "孫悟空 - ENCOUNTERED -> ヤムチャ\n",
            "孫悟空 - ENCOUNTERED -> ピラフ\n",
            "孫悟空 - TRAIN_UNDER -> 亀仙人\n"
          ]
        }
      ]
    },
    {
      "cell_type": "code",
      "source": [
        "def retriever(question: str):\n",
        "    print(f\"Search query: {question}\")\n",
        "    structured_data = structured_retriever(question)\n",
        "    unstructured_data = [el.page_content for el in vector_index.similarity_search(question)]\n",
        "    final_data = f\"\"\"Structured data:\n",
        "    {structured_data}\n",
        "    Unstructured data:\n",
        "    {\"#Document \". join(unstructured_data)}\n",
        "    \"\"\"\n",
        "    # print(final_data)\n",
        "    return final_data"
      ],
      "metadata": {
        "id": "ijqAmvTe6HVL"
      },
      "execution_count": 20,
      "outputs": []
    },
    {
      "cell_type": "code",
      "source": [
        "_search_query = RunnableLambda(lambda x: x[\"question\"])"
      ],
      "metadata": {
        "id": "D0nBs5bRxrV1"
      },
      "execution_count": 21,
      "outputs": []
    },
    {
      "cell_type": "code",
      "source": [
        "template = \"\"\"あなたは優秀なAIです。下記のコンテキストを利用してユーザーの質問に丁寧に答えてください。\n",
        "必ず文脈からわかる情報のみを使用して回答を生成してください。\n",
        "{context}\n",
        "\n",
        "ユーザーの質問: {question}\"\"\"\n",
        "prompt = ChatPromptTemplate.from_template(template)\n",
        "\n",
        "chain = (\n",
        "    RunnableParallel(\n",
        "        {\n",
        "            \"context\": _search_query | retriever,\n",
        "            \"question\": RunnablePassthrough(),\n",
        "        }\n",
        "    )\n",
        "    | prompt\n",
        "    | llm\n",
        "    | StrOutputParser()\n",
        ")"
      ],
      "metadata": {
        "id": "mQzgiro36NdG"
      },
      "execution_count": 22,
      "outputs": []
    },
    {
      "cell_type": "code",
      "source": [
        "chain.invoke({\"question\": \"梧空と仲がいいのは誰ですか？\"})"
      ],
      "metadata": {
        "colab": {
          "base_uri": "https://localhost:8080/",
          "height": 53
        },
        "id": "rvRurBCIhHa_",
        "outputId": "df651958-bd0a-4abc-f756-0859634c7080"
      },
      "execution_count": 24,
      "outputs": [
        {
          "output_type": "stream",
          "name": "stdout",
          "text": [
            "Search query: 梧空と仲がいいのは誰ですか？\n"
          ]
        },
        {
          "output_type": "execute_result",
          "data": {
            "text/plain": [
              "'悟空と仲がいいのは、悟飯、クリリン、悟飯、ブルマ、そして界王神です。'"
            ],
            "application/vnd.google.colaboratory.intrinsic+json": {
              "type": "string"
            }
          },
          "metadata": {},
          "execution_count": 24
        }
      ]
    },
    {
      "cell_type": "code",
      "source": [],
      "metadata": {
        "id": "2cqRizwtqn_a"
      },
      "execution_count": null,
      "outputs": []
    },
    {
      "cell_type": "code",
      "source": [],
      "metadata": {
        "id": "8pZhyuyv2jKX"
      },
      "execution_count": null,
      "outputs": []
    }
  ]
}