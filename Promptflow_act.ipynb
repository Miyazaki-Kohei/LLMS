{
  "nbformat": 4,
  "nbformat_minor": 0,
  "metadata": {
    "colab": {
      "provenance": [],
      "authorship_tag": "ABX9TyNZun6T3cTlbfM/gm9mFjNg",
      "include_colab_link": true
    },
    "kernelspec": {
      "name": "python3",
      "display_name": "Python 3"
    },
    "language_info": {
      "name": "python"
    }
  },
  "cells": [
    {
      "cell_type": "markdown",
      "metadata": {
        "id": "view-in-github",
        "colab_type": "text"
      },
      "source": [
        "<a href=\"https://colab.research.google.com/github/Miyazaki-Kohei/LLMS/blob/main/Promptflow_act.ipynb\" target=\"_parent\"><img src=\"https://colab.research.google.com/assets/colab-badge.svg\" alt=\"Open In Colab\"/></a>"
      ]
    },
    {
      "cell_type": "code",
      "source": [
        "import urllib.request\n",
        "import json\n",
        "import os\n",
        "import ssl\n",
        "\n",
        "def allowSelfSignedHttps(allowed):\n",
        "    # bypass the server certificate verification on client side\n",
        "    if allowed and not os.environ.get('PYTHONHTTPSVERIFY', '') and getattr(ssl, '_create_unverified_context', None):\n",
        "        ssl._create_default_https_context = ssl._create_unverified_context\n",
        "\n",
        "allowSelfSignedHttps(True)  # this line is needed if you use self-signed certificate in your scoring service.\n",
        "\n",
        "data = {\n",
        "    \"chat_input\": \"Londonの宿泊先はどこにすべきですか？\"\n",
        "}\n",
        "\n",
        "body = str.encode(json.dumps(data))\n",
        "\n",
        "url = 'エンドポイント'\n",
        "api_key = 'API'\n",
        "if not api_key:\n",
        "    raise Exception(\"A key should be provided to invoke the endpoint\")\n",
        "\n",
        "headers = {'Content-Type': 'application/json', 'Authorization': ('Bearer ' + api_key), 'azureml-model-deployment': 'brochure-1'}\n",
        "\n",
        "req = urllib.request.Request(url, body, headers)\n",
        "\n",
        "try:\n",
        "    response = urllib.request.urlopen(req)\n",
        "    result = response.read()\n",
        "    # JSON形式のレスポンスを読み込む\n",
        "    response_data = json.loads(result)\n",
        "    # chat_outputを取得し、表示する\n",
        "    chat_output = response_data.get(\"chat_output\", \"\")\n",
        "    # 直接Unicodeエスケープされた文字列をデコードして表示\n",
        "    print(chat_output)\n",
        "except urllib.error.HTTPError as error:\n",
        "    print(\"The request failed with status code: \" + str(error.code))\n",
        "    print(error.info())\n",
        "    print(json.loads(error.read().decode(\"utf8\", 'ignore')))\n"
      ],
      "metadata": {
        "colab": {
          "base_uri": "https://localhost:8080/"
        },
        "id": "kt1jRLAJS2ls",
        "outputId": "6a7ab24c-5535-4b1f-8726-59031d7916c4"
      },
      "execution_count": 9,
      "outputs": [
        {
          "output_type": "stream",
          "name": "stdout",
          "text": [
            "ロンドンの宿泊先としては、Margie's Travelが提供する以下のホテルがあります：\n",
            "\n",
            "- バッキンガム・ホテル：バッキンガム宮殿、リージェンツ・パーク、トラファルガー広場などの主要な観光スポットに近く、快適なホテルです。\n",
            "- ザ・シティ・ホテル：ロンドン市内の高級ホテルで、タワーブリッジやロンドン塔まで徒歩圏内です。\n",
            "- ケンジントン・ホテル：アールズ・コートに近い予算に優しい宿泊施設です。\n",
            "\n",
            "あなたの予算や旅行の目的に合わせて、これらのホテルの中から選ぶことができます。詳細は、Margie's Travelのウェブサイトで確認できます。\n"
          ]
        }
      ]
    },
    {
      "cell_type": "code",
      "source": [],
      "metadata": {
        "id": "DXtPpIpTUQ_c"
      },
      "execution_count": null,
      "outputs": []
    }
  ]
}