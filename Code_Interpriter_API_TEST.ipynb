{
  "nbformat": 4,
  "nbformat_minor": 0,
  "metadata": {
    "colab": {
      "provenance": [],
      "authorship_tag": "ABX9TyP32tykpAkpUYXPM93GENwm",
      "include_colab_link": true
    },
    "kernelspec": {
      "name": "python3",
      "display_name": "Python 3"
    },
    "language_info": {
      "name": "python"
    }
  },
  "cells": [
    {
      "cell_type": "markdown",
      "metadata": {
        "id": "view-in-github",
        "colab_type": "text"
      },
      "source": [
        "<a href=\"https://colab.research.google.com/github/Miyazaki-Kohei/LLMS/blob/main/Code_Interpriter_API_TEST.ipynb\" target=\"_parent\"><img src=\"https://colab.research.google.com/assets/colab-badge.svg\" alt=\"Open In Colab\"/></a>"
      ]
    },
    {
      "cell_type": "code",
      "source": [
        "# パッケージのインストール\n",
        "!pip install openai"
      ],
      "metadata": {
        "colab": {
          "base_uri": "https://localhost:8080/"
        },
        "id": "2cTS-LSOCRFs",
        "outputId": "ff8db378-fc55-4348-dbd4-0588f3f41ef3"
      },
      "execution_count": 4,
      "outputs": [
        {
          "output_type": "stream",
          "name": "stdout",
          "text": [
            "Collecting openai\n",
            "  Downloading openai-1.2.0-py3-none-any.whl (219 kB)\n",
            "\u001b[2K     \u001b[90m━━━━━━━━━━━━━━━━━━━━━━━━━━━━━━━━━━━━━━━━\u001b[0m \u001b[32m219.9/219.9 kB\u001b[0m \u001b[31m4.6 MB/s\u001b[0m eta \u001b[36m0:00:00\u001b[0m\n",
            "\u001b[?25hRequirement already satisfied: anyio<4,>=3.5.0 in /usr/local/lib/python3.10/dist-packages (from openai) (3.7.1)\n",
            "Requirement already satisfied: distro<2,>=1.7.0 in /usr/lib/python3/dist-packages (from openai) (1.7.0)\n",
            "Collecting httpx<1,>=0.23.0 (from openai)\n",
            "  Downloading httpx-0.25.1-py3-none-any.whl (75 kB)\n",
            "\u001b[2K     \u001b[90m━━━━━━━━━━━━━━━━━━━━━━━━━━━━━━━━━━━━━━━━\u001b[0m \u001b[32m75.0/75.0 kB\u001b[0m \u001b[31m9.2 MB/s\u001b[0m eta \u001b[36m0:00:00\u001b[0m\n",
            "\u001b[?25hRequirement already satisfied: pydantic<3,>=1.9.0 in /usr/local/lib/python3.10/dist-packages (from openai) (1.10.13)\n",
            "Requirement already satisfied: tqdm>4 in /usr/local/lib/python3.10/dist-packages (from openai) (4.66.1)\n",
            "Requirement already satisfied: typing-extensions<5,>=4.5 in /usr/local/lib/python3.10/dist-packages (from openai) (4.5.0)\n",
            "Requirement already satisfied: idna>=2.8 in /usr/local/lib/python3.10/dist-packages (from anyio<4,>=3.5.0->openai) (3.4)\n",
            "Requirement already satisfied: sniffio>=1.1 in /usr/local/lib/python3.10/dist-packages (from anyio<4,>=3.5.0->openai) (1.3.0)\n",
            "Requirement already satisfied: exceptiongroup in /usr/local/lib/python3.10/dist-packages (from anyio<4,>=3.5.0->openai) (1.1.3)\n",
            "Requirement already satisfied: certifi in /usr/local/lib/python3.10/dist-packages (from httpx<1,>=0.23.0->openai) (2023.7.22)\n",
            "Collecting httpcore (from httpx<1,>=0.23.0->openai)\n",
            "  Downloading httpcore-1.0.1-py3-none-any.whl (76 kB)\n",
            "\u001b[2K     \u001b[90m━━━━━━━━━━━━━━━━━━━━━━━━━━━━━━━━━━━━━━━━\u001b[0m \u001b[32m76.9/76.9 kB\u001b[0m \u001b[31m10.1 MB/s\u001b[0m eta \u001b[36m0:00:00\u001b[0m\n",
            "\u001b[?25hCollecting h11<0.15,>=0.13 (from httpcore->httpx<1,>=0.23.0->openai)\n",
            "  Downloading h11-0.14.0-py3-none-any.whl (58 kB)\n",
            "\u001b[2K     \u001b[90m━━━━━━━━━━━━━━━━━━━━━━━━━━━━━━━━━━━━━━━━\u001b[0m \u001b[32m58.3/58.3 kB\u001b[0m \u001b[31m7.4 MB/s\u001b[0m eta \u001b[36m0:00:00\u001b[0m\n",
            "\u001b[?25hInstalling collected packages: h11, httpcore, httpx, openai\n",
            "\u001b[31mERROR: pip's dependency resolver does not currently take into account all the packages that are installed. This behaviour is the source of the following dependency conflicts.\n",
            "llmx 0.0.15a0 requires cohere, which is not installed.\n",
            "llmx 0.0.15a0 requires tiktoken, which is not installed.\u001b[0m\u001b[31m\n",
            "\u001b[0mSuccessfully installed h11-0.14.0 httpcore-1.0.1 httpx-0.25.1 openai-1.2.0\n"
          ]
        }
      ]
    },
    {
      "cell_type": "code",
      "source": [
        "import os\n",
        "from google.colab import userdata\n",
        "os.environ[\"OPENAI_API_KEY\"] = userdata.get(\"OpenAI\")"
      ],
      "metadata": {
        "id": "_lXUksvcDEKC"
      },
      "execution_count": 6,
      "outputs": []
    },
    {
      "cell_type": "code",
      "source": [
        "from openai import OpenAI\n",
        "\n",
        "# クライアントの準備\n",
        "client = OpenAI()"
      ],
      "metadata": {
        "id": "t1U7QCDOCzyw"
      },
      "execution_count": 7,
      "outputs": []
    },
    {
      "cell_type": "code",
      "source": [
        "# アシスタントの作成\n",
        "assistant = client.beta.assistants.create(\n",
        "    instructions=\"あなたは数学の個人家庭教師です。数学の質問に答えるコードを書いて実行します。\",\n",
        "    model=\"gpt-4-1106-preview\",\n",
        "    tools=[{\"type\": \"code_interpreter\"}],\n",
        ")"
      ],
      "metadata": {
        "id": "L2S0FEYgC2Mm"
      },
      "execution_count": 8,
      "outputs": []
    },
    {
      "cell_type": "code",
      "source": [
        "# スレッドの準備\n",
        "thread = client.beta.threads.create()"
      ],
      "metadata": {
        "id": "C_UE73nmDLNH"
      },
      "execution_count": 9,
      "outputs": []
    },
    {
      "cell_type": "code",
      "source": [
        "# ユーザーメッセージの追加\n",
        "message = client.beta.threads.messages.create(\n",
        "    thread_id=thread.id,\n",
        "    role=\"user\",\n",
        "    content=\"方程式「3x + 11 = 14」を解く必要があります。手伝ってもらえますか？\"\n",
        ")"
      ],
      "metadata": {
        "id": "IojY94S3DM9R"
      },
      "execution_count": 10,
      "outputs": []
    },
    {
      "cell_type": "code",
      "source": [
        "# アシスタントにリクエスト\n",
        "run = client.beta.threads.runs.create(\n",
        "    thread_id=thread.id,\n",
        "    assistant_id=assistant.id,\n",
        ")"
      ],
      "metadata": {
        "id": "6GYWs9ytDQGE"
      },
      "execution_count": 11,
      "outputs": []
    },
    {
      "cell_type": "code",
      "source": [
        "# 実行状況の確認\n",
        "run = client.beta.threads.runs.retrieve(\n",
        "    thread_id=thread.id,\n",
        "    run_id=run.id\n",
        ")\n",
        "print(run.status)"
      ],
      "metadata": {
        "colab": {
          "base_uri": "https://localhost:8080/"
        },
        "id": "edqTBVk6DTOs",
        "outputId": "d8b0064b-4727-4fad-91f4-3c90e3a96ff0"
      },
      "execution_count": 12,
      "outputs": [
        {
          "output_type": "stream",
          "name": "stdout",
          "text": [
            "completed\n"
          ]
        }
      ]
    },
    {
      "cell_type": "code",
      "source": [
        "# スレッドのメッセージリストの確認\n",
        "messages = client.beta.threads.messages.list(\n",
        "    thread_id=thread.id,\n",
        "    order=\"asc\"\n",
        ")\n",
        "for message in messages:\n",
        "    print(message.role, \":\", message.content[0].text.value)"
      ],
      "metadata": {
        "colab": {
          "base_uri": "https://localhost:8080/"
        },
        "id": "z_FVj-OLDVou",
        "outputId": "0bc80631-93c9-4aee-8d69-069e8ed532ee"
      },
      "execution_count": 13,
      "outputs": [
        {
          "output_type": "stream",
          "name": "stdout",
          "text": [
            "user : 方程式「3x + 11 = 14」を解く必要があります。手伝ってもらえますか？\n",
            "assistant : 方程式 \\(3x + 11 = 14\\) を解くと、\\(x = 1\\) が得られます。\n"
          ]
        }
      ]
    },
    {
      "cell_type": "code",
      "source": [
        "# Run Stepの確認\n",
        "run_steps = client.beta.threads.runs.steps.list(\n",
        "    thread_id=thread.id,\n",
        "    run_id=run.id\n",
        ")\n",
        "print(run_steps)"
      ],
      "metadata": {
        "colab": {
          "base_uri": "https://localhost:8080/"
        },
        "id": "Yq7Ex3F_DcjZ",
        "outputId": "865dc5b9-4c16-46bd-de3a-9082d64ea53b"
      },
      "execution_count": 14,
      "outputs": [
        {
          "output_type": "stream",
          "name": "stdout",
          "text": [
            "SyncCursorPage[RunStep](data=[RunStep(id='step_le1nUwUR9XWkp6Wz3vWRLEpc', assistant_id='asst_dkMRxRGT8xbtXTpZ9kQi8xHJ', cancelled_at=None, completed_at=1699516075, created_at=1699516074, expired_at=None, failed_at=None, last_error=None, metadata=None, object='thread.run.step', run_id='run_BmZPcJOyPqsGPlVRSSYKDUGK', status='completed', step_details=MessageCreationStepDetails(message_creation=MessageCreation(message_id='msg_d1UBcp9G7QCzZHOSy39L7BFk'), type='message_creation'), thread_id='thread_yw1svm4mSu4gEjNuEvsIGiJA', type='message_creation', expires_at=None), RunStep(id='step_8iXUViO905u9binMzAAysh6i', assistant_id='asst_dkMRxRGT8xbtXTpZ9kQi8xHJ', cancelled_at=None, completed_at=1699516074, created_at=1699516070, expired_at=None, failed_at=None, last_error=None, metadata=None, object='thread.run.step', run_id='run_BmZPcJOyPqsGPlVRSSYKDUGK', status='completed', step_details=ToolCallsStepDetails(tool_calls=[CodeToolCall(id='call_zQyzG4lpMfhzcoLp69tPmGFR', code_interpreter=CodeInterpreter(input=\"from sympy import symbols, Eq, solve\\n\\n# Define the variable\\nx = symbols('x')\\n\\n# Define the equation: 3x + 11 = 14\\nequation = Eq(3*x + 11, 14)\\n\\n# Solve the equation\\nsolution = solve(equation, x)\\nsolution\", outputs=[CodeInterpreterOutputLogs(logs='[1]', type='logs')]), type='code_interpreter')], type='tool_calls'), thread_id='thread_yw1svm4mSu4gEjNuEvsIGiJA', type='tool_calls', expires_at=None)], object='list', first_id='step_le1nUwUR9XWkp6Wz3vWRLEpc', last_id='step_8iXUViO905u9binMzAAysh6i', has_more=False)\n"
          ]
        }
      ]
    },
    {
      "cell_type": "code",
      "source": [],
      "metadata": {
        "id": "LgAR9PSZDkUU"
      },
      "execution_count": null,
      "outputs": []
    }
  ]
}